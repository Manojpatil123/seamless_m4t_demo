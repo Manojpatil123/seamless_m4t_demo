{
  "cells": [
    {
      "cell_type": "markdown",
      "metadata": {
        "id": "view-in-github",
        "colab_type": "text"
      },
      "source": [
        "<a href=\"https://colab.research.google.com/github/Manojpatil123/seamless_m4t_demo/blob/main/seamless_m4t_colab.ipynb\" target=\"_parent\"><img src=\"https://colab.research.google.com/assets/colab-badge.svg\" alt=\"Open In Colab\"/></a>"
      ]
    },
    {
      "cell_type": "code",
      "execution_count": null,
      "metadata": {
        "id": "VjYy0F2gZIPR"
      },
      "outputs": [],
      "source": [
        "%cd /content\n",
        "!pip install -q fairseq2==0.1.0 gradio==3.40.1\n",
        "!pip install -q git+https://github.com/camenduru/seamless_communication\n",
        "\n",
        "%cd /content\n",
        "!git clone -b dev https://github.com/camenduru/seamless_m4t-hf\n",
        "%cd /content/seamless_m4t-hf\n",
        "\n",
        "!wget https://huggingface.co/spaces/facebook/seamless_m4t/resolve/main/assets/sample_input.mp3 -O /content/seamless_m4t-hf/assets/sample_input.mp3\n",
        "!wget https://huggingface.co/spaces/facebook/seamless_m4t/resolve/main/assets/sample_input_2.mp3 -O /content/seamless_m4t-hf/assets/sample_input_2.mp3\n",
        "\n",
        "!python app.py"
      ]
    }
  ],
  "metadata": {
    "accelerator": "GPU",
    "colab": {
      "gpuType": "T4",
      "provenance": [],
      "include_colab_link": true
    },
    "kernelspec": {
      "display_name": "Python 3",
      "name": "python3"
    },
    "language_info": {
      "name": "python"
    }
  },
  "nbformat": 4,
  "nbformat_minor": 0
}